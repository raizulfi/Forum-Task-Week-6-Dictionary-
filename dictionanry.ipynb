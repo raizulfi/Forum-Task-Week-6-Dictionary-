{
 "cells": [
  {
   "cell_type": "code",
   "execution_count": 17,
   "metadata": {},
   "outputs": [
    {
     "name": "stdout",
     "output_type": "stream",
     "text": [
      "{'gold': 550, 'pouch': ['flint', 'twine', 'gemstone'], 'backpack': ['bedroll', 'bread loaf', 'xylophone'], 'pocket': ['seashell', 'strange berry', 'lint']}\n"
     ]
    }
   ],
   "source": [
    "#execrise 1 \n",
    "\n",
    "inventory = {\n",
    "    'gold' : 500,\n",
    "    'pouch' : ['flint', 'twine', 'gemstone'],\n",
    "    'backpack' : ['xylophone','dagger',\n",
    "    'bedroll','bread loaf'] \n",
    "    }\n",
    "\n",
    "inventory['pocket']=['seashell', 'strange berry','lint']\n",
    "inventory['backpack'].sort()\n",
    "inventory['backpack'].remove('dagger')\n",
    "inventory['gold'] += 50\n",
    "\n",
    "print(inventory)"
   ]
  },
  {
   "cell_type": "code",
   "execution_count": 26,
   "metadata": {},
   "outputs": [
    {
     "name": "stdout",
     "output_type": "stream",
     "text": [
      "banana     price: 4    stock: 6\n",
      "apple     price: 2    stock: 0\n",
      "orange     price: 1.5    stock: 32\n",
      "pear     price: 3    stock: 15\n",
      "the total amount accumulated is 117.0\n"
     ]
    }
   ],
   "source": [
    "#excerise 2\n",
    "\n",
    "prices = { \"banana\": 4, \"apple\": 2, \"orange\": 1.5, \"pear\": 3 }\n",
    "stock = { \"banana\": 6, \"apple\": 0, \"orange\": 32, \"pear\": 15 }\n",
    "\n",
    "for key in prices:\n",
    "    print(f\"{key}\\\n",
    "     price: {prices[key]}\\\n",
    "    stock: {stock[key]}\")\n",
    "\n",
    "total = 0\n",
    "\n",
    "for key in stock:\n",
    "    total += stock[key] * prices[key]\n",
    "\n",
    "print(f\"the total amount accumulated is {total}\")"
   ]
  },
  {
   "cell_type": "code",
   "execution_count": 29,
   "metadata": {},
   "outputs": [
    {
     "name": "stdout",
     "output_type": "stream",
     "text": [
      "5.5\n"
     ]
    }
   ],
   "source": [
    "#excerise 3\n",
    "groceries = [\"banana\",\"orange\",\"apple\"]\n",
    "stock = { \n",
    "    \"banana\": 6, \n",
    "    \"apple\": 0, \n",
    "    \"orange\": 32, \n",
    "    \"pear\": 15 \n",
    "}  \n",
    "prices = { \n",
    "    \"banana\": 4, \n",
    "    \"apple\": 2, \n",
    "    \"orange\": 1.5, \n",
    "    \"pear\": 3 \n",
    "} \n",
    "\n",
    "def compute_bill(food):\n",
    "    total = 0\n",
    "    for i in food:\n",
    "        if stock[i] > 0:\n",
    "            total += prices[i]\n",
    "            stock[i] -= 1\n",
    "    \n",
    "    return(total)\n",
    "\n",
    "print(compute_bill(groceries))\n",
    "\n",
    "\n"
   ]
  },
  {
   "cell_type": "code",
   "execution_count": 10,
   "metadata": {},
   "outputs": [
    {
     "name": "stdout",
     "output_type": "stream",
     "text": [
      "Name: Eren \n",
      " Homework: [90.0, 97.0, 75.0, 92.0] \n",
      " Quizzes: [88.0, 40.0, 94.0] \n",
      " Tests: [75.0, 90.0]\n",
      "Name: Mikasa \n",
      " Homework: [100.0, 92.0, 98.0, 100.0] \n",
      " Quizzes: [82.0, 83.0, 91.0] \n",
      " Tests: [89.0, 97.0]\n",
      "Name: Armin \n",
      " Homework: [0.0, 87.0, 75.0, 22.0] \n",
      " Quizzes: [0.0, 75.0, 78.0] \n",
      " Tests: [100.0, 100.0]\n",
      "class average: 83.86666666666666\n",
      "letter grade for class average:  B\n"
     ]
    }
   ],
   "source": [
    "#excercise 4\n",
    "eren = { \n",
    "  \"name\": \"Eren\", \n",
    "  \"homework\": [90.0,97.0,75.0,92.0], \n",
    "  \"quizzes\": [88.0,40.0,94.0], \n",
    "  \"tests\": [75.0,90.0] \n",
    "} \n",
    "mikasa = { \n",
    " \"name\": \"Mikasa\", \n",
    " \"homework\": [100.0, 92.0, 98.0, 100.0], \n",
    " \"quizzes\": [82.0, 83.0, 91.0], \n",
    " \"tests\": [89.0, 97.0] \n",
    "} \n",
    "armin = { \n",
    "\"name\": \"Armin\", \n",
    "\"homework\": [0.0, 87.0, 75.0, 22.0], \n",
    "\"quizzes\": [0.0, 75.0, 78.0], \n",
    "\"tests\": [100.0, 100.0] \n",
    "}\n",
    "\n",
    "students=[eren, mikasa, armin]\n",
    "\n",
    "for x in students:\n",
    "  print('Name:', x[\"name\"], '\\n', \n",
    "    'Homework:', x[\"homework\"], '\\n', \n",
    "    'Quizzes:', x[\"quizzes\"], '\\n', \n",
    "    'Tests:', x[\"tests\"])\n",
    "  \n",
    "def average(numbers):\n",
    "    total=float(sum((numbers))) \n",
    "    average=total/len(numbers)\n",
    "    \n",
    "    return average\n",
    "\n",
    "def get_average(student):\n",
    "    homework = average(student[\"homework\"])\n",
    "    quizzes = average(student[\"quizzes\"])\n",
    "    tests = average(student[\"tests\"])\n",
    "    weighted = (homework * 0.1) + (quizzes *0.3) + (tests * 0.6)\n",
    "    \n",
    "    return weighted\n",
    "\n",
    "def get_letter_grade(score):\n",
    "  if score >= 90:\n",
    "    return 'A'\n",
    "  elif score >= 80:\n",
    "    return 'B'\n",
    "  elif score >= 70:\n",
    "    return 'C'\n",
    "  elif score >= 60:\n",
    "    return 'D'\n",
    "  else:\n",
    "    return 'F'\n",
    "\n",
    "# get_letter_grade(get_average(mikasa))\n",
    "\n",
    "def get_class_average(students):\n",
    "  results = []\n",
    "  for i in students:\n",
    "    results.append((get_average(i)))\n",
    "\n",
    "  return average(results)\n",
    "\n",
    "print(\"class average:\", get_class_average(students))\n",
    "print(\"letter grade for class average: \", get_letter_grade(get_class_average(students)))"
   ]
  }
 ],
 "metadata": {
  "kernelspec": {
   "display_name": "Python 3.8.5 32-bit",
   "language": "python",
   "name": "python3"
  },
  "language_info": {
   "codemirror_mode": {
    "name": "ipython",
    "version": 3
   },
   "file_extension": ".py",
   "mimetype": "text/x-python",
   "name": "python",
   "nbconvert_exporter": "python",
   "pygments_lexer": "ipython3",
   "version": "3.8.5"
  },
  "orig_nbformat": 4,
  "vscode": {
   "interpreter": {
    "hash": "fbe58ca63fe33f9eeae9e71d10368d2b4a57f2b1b395836210cc60d362c66949"
   }
  }
 },
 "nbformat": 4,
 "nbformat_minor": 2
}
